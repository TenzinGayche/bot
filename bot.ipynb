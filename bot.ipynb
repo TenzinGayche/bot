{
 "cells": [
  {
   "cell_type": "code",
   "execution_count": null,
   "metadata": {},
   "outputs": [],
   "source": [
    "!pip install numpy\n",
    "!pip install requests\n",
    "!pip install tqdm\n",
    "!pip install pandas"
   ]
  },
  {
   "cell_type": "code",
   "execution_count": 2,
   "metadata": {},
   "outputs": [],
   "source": [
    "\n",
    "from pathlib import Path\n",
    "import re\n",
    "import numpy as np  # For generating random delays\n",
    "import requests\n",
    "import time\n",
    "from pathlib import Path\n",
    "from tqdm.notebook import tqdm\n",
    "import pandas as pd\n",
    "import smtplib\n",
    "from email.mime.text import MIMEText\n",
    "\n"
   ]
  },
  {
   "cell_type": "code",
   "execution_count": 1,
   "metadata": {},
   "outputs": [
    {
     "name": "stdout",
     "output_type": "stream",
     "text": [
      "Note: you may need to restart the kernel to use updated packages.\n"
     ]
    }
   ],
   "source": [
    "pip freeze > requirements.txt"
   ]
  },
  {
   "cell_type": "code",
   "execution_count": 3,
   "metadata": {},
   "outputs": [],
   "source": [
    "df = pd.read_csv('tsv/bangchen1.tsv',sep='\\t')"
   ]
  },
  {
   "cell_type": "code",
   "execution_count": 104,
   "metadata": {},
   "outputs": [
    {
     "data": {
      "application/vnd.jupyter.widget-view+json": {
       "model_id": "d0b96b9e3df647dc8b7e610e476a134e",
       "version_major": 2,
       "version_minor": 0
      },
      "text/plain": [
       "Downloading Audio:   0%|          | 0/33187 [00:00<?, ?it/s]"
      ]
     },
     "metadata": {},
     "output_type": "display_data"
    }
   ],
   "source": [
    "\n",
    "bot='Bot 1 b1'\n",
    "smtp_server = \"smtp.gmail.com\"\n",
    "smtp_port = 587\n",
    "username = \"ADD YOUR EMAIL HERE\"  \n",
    "password = \"ADD YOUR APP PASSWORD HERE\"  # App password if you use 2FA (you can generate it from your email settings)\n",
    "def send_request(text, vcn='x2_BoCn_YangJin'):\n",
    "    url = 'http://ai.tibetbaiyun.com/api/TranslateYuYin'\n",
    "    payload = {'translatetext': text, 'vcn': vcn}\n",
    "    try:\n",
    "        response = requests.post(url, json=payload)\n",
    "        if response.status_code == 200 and response.json().get('state') == 1:\n",
    "            return response.json().get('result')\n",
    "        else:\n",
    "            return None\n",
    "    except requests.RequestException:\n",
    "        return None\n",
    "\n",
    "def process_tsv_and_download_audio(df, download_folder):\n",
    "    \n",
    "    Path(download_folder).mkdir(parents=True, exist_ok=True)\n",
    "\n",
    "    for _, row in tqdm(df.iterrows(), total=df.shape[0], desc=\"Downloading Audio\"):\n",
    "        response_url = None\n",
    "        attempts = 0\n",
    "\n",
    "        while not response_url and attempts < 5:\n",
    "            response_url = send_request(row['Text'])\n",
    "            if not response_url:\n",
    "                attempts += 1\n",
    "                time.sleep(5)\n",
    "  # Wait for 5 seconds before retrying\n",
    "        if attempts == 5:\n",
    "            with smtplib.SMTP(smtp_server, smtp_port) as server:\n",
    "                message = MIMEText(f\"{bot}: Man! I am not able to download the audio. Something is wrong with the server\")\n",
    "                message[\"Subject\"] = \"Yoo! ALERT! 🚨❗📢\"\n",
    "                message[\"From\"] = username\n",
    "                message[\"To\"] = \"gaychetenzin@gmail.com\"\n",
    "                server.starttls()\n",
    "                server.login(username, password)\n",
    "                server.send_message(message)\n",
    "            break\n",
    "\n",
    "        if response_url:\n",
    "            try:\n",
    "                mp3_response = requests.get(response_url)\n",
    "                if mp3_response.status_code == 200:\n",
    "                    file_path = Path(download_folder) / f\"{row['ID']}.mp3\"\n",
    "                    with open(file_path, 'wb') as file:\n",
    "                        file.write(mp3_response.content)\n",
    "                    with open('checpoint.txt','w') as file:\n",
    "                        file.write(str(row['ID']))\n",
    "            except requests.RequestException:\n",
    "                print(f\"Failed to download MP3 for ID {row['ID']}.\")\n",
    "\n",
    "        delay = np.random.lognormal(mean=np.log(10), sigma=0.5)  # Adjust mean and sigma as needed\n",
    "        delay = np.clip(delay, 3, 15)  # Clipping delay to be between 3 to 15 seconds\n",
    "        time.sleep(delay)\n",
    "        #every 6 hours send an email and report the progress\n",
    "\n",
    "# The function is now ready to be used with the modified delay logic.\n",
    "# The tsv_file_path and download_folder variables would need to be defined with actual paths before using the function.\n",
    "try :\n",
    "    process_tsv_and_download_audio(df, 'Audio')\n",
    "except Exception as e:\n",
    "    message=e\n",
    "    with smtplib.SMTP(smtp_server, smtp_port) as server:\n",
    "        message = MIMEText(str(e))\n",
    "        message[\"Subject\"] = f\" {bot}: Ahhh shitt !🥲\"\n",
    "        message[\"From\"] = username\n",
    "        message[\"To\"] = \"ADD EMAIL TO SEND ALERTS TO\" #use a different email to recieve alerts\n",
    "        server.starttls()\n",
    "        server.login(username, password)\n",
    "        server.send_message(message)   \n"
   ]
  }
 ],
 "metadata": {
  "kernelspec": {
   "display_name": ".env",
   "language": "python",
   "name": "python3"
  },
  "language_info": {
   "codemirror_mode": {
    "name": "ipython",
    "version": 3
   },
   "file_extension": ".py",
   "mimetype": "text/x-python",
   "name": "python",
   "nbconvert_exporter": "python",
   "pygments_lexer": "ipython3",
   "version": "3.11.3"
  }
 },
 "nbformat": 4,
 "nbformat_minor": 2
}
